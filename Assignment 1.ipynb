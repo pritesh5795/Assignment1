{
 "cells": [
  {
   "cell_type": "code",
   "execution_count": 3,
   "id": "bdf7e222",
   "metadata": {},
   "outputs": [],
   "source": [
    "#Q1. In the below elements which of them are values or an expression? eg:- values can be integer or string and expressions will be mathematical operators.\n",
    "#Ans. values are - 'hello', -87.8, 6\n",
    " #   expression are - *, -, /, +"
   ]
  },
  {
   "cell_type": "code",
   "execution_count": 4,
   "id": "bcc3c36b",
   "metadata": {},
   "outputs": [],
   "source": [
    "#Q2. What is the difference between string and variable?\n",
    "#Ans. String is a type of information you would store in a Variable. A String is usually words, enclosed with \" \". eg.\"welcome to oneneuron\"\n",
    "#     Variable is a store of information. eg. str(a)= \"pritesh\" , where 'a' is varialbe."
   ]
  },
  {
   "cell_type": "code",
   "execution_count": 16,
   "id": "d6f85909",
   "metadata": {},
   "outputs": [],
   "source": [
    "#Q3. Describe three different data types.\n",
    "#Ans. 1. Interger- the integer data type store whole number and can be positive or negative. \n",
    "#        eg. l= [1,2,3,4,5,6] where, 1,2,3,4,5,6 are the integer.\n",
    "#     2. String- the string is data type of series of characters as a single piece of data.\n",
    "#        eg. str('hello')\n",
    "#     3. Boolean- the boolean data type store TRUE or FALSE data values.\n",
    "#        eg as follows,"
   ]
  },
  {
   "cell_type": "code",
   "execution_count": 17,
   "id": "1ca0e4ac",
   "metadata": {},
   "outputs": [],
   "source": [
    "l=[1,2,3,4,5,6]"
   ]
  },
  {
   "cell_type": "code",
   "execution_count": 18,
   "id": "46e63050",
   "metadata": {},
   "outputs": [
    {
     "data": {
      "text/plain": [
       "[1, 2, 3, 4, 5, 6]"
      ]
     },
     "execution_count": 18,
     "metadata": {},
     "output_type": "execute_result"
    }
   ],
   "source": [
    "l"
   ]
  },
  {
   "cell_type": "code",
   "execution_count": 19,
   "id": "e421cdf7",
   "metadata": {},
   "outputs": [
    {
     "data": {
      "text/plain": [
       "'hello'"
      ]
     },
     "execution_count": 19,
     "metadata": {},
     "output_type": "execute_result"
    }
   ],
   "source": [
    "str('hello')"
   ]
  },
  {
   "cell_type": "code",
   "execution_count": 20,
   "id": "f19f75f8",
   "metadata": {},
   "outputs": [],
   "source": [
    "p=\"pritesh\""
   ]
  },
  {
   "cell_type": "code",
   "execution_count": 21,
   "id": "b7025c88",
   "metadata": {},
   "outputs": [
    {
     "data": {
      "text/plain": [
       "True"
      ]
     },
     "execution_count": 21,
     "metadata": {},
     "output_type": "execute_result"
    }
   ],
   "source": [
    "p.islower()"
   ]
  },
  {
   "cell_type": "code",
   "execution_count": 22,
   "id": "63d754d2",
   "metadata": {},
   "outputs": [],
   "source": [
    "#Q4.1. What is an expression made up of? \n",
    "#Ans. An expression made up of operation, values, variables, call function etc. \n",
    "\n",
    "#Q4.2. What do all expressions do?\n",
    "#Ans. Evaluate and show result."
   ]
  },
  {
   "cell_type": "code",
   "execution_count": 23,
   "id": "6e72b7bb",
   "metadata": {},
   "outputs": [],
   "source": [
    "#Q5. This assignment statements, like spam = 10. What is the difference between an expression and a statement?\n",
    "#Ans. Expression is combination of operation, values, variables where statement represent an command like print()\n",
    "#     eg as follows,"
   ]
  },
  {
   "cell_type": "code",
   "execution_count": 24,
   "id": "ba7656cc",
   "metadata": {},
   "outputs": [],
   "source": [
    "spam=10"
   ]
  },
  {
   "cell_type": "code",
   "execution_count": 25,
   "id": "db3ab5b6",
   "metadata": {},
   "outputs": [
    {
     "data": {
      "text/plain": [
       "10"
      ]
     },
     "execution_count": 25,
     "metadata": {},
     "output_type": "execute_result"
    }
   ],
   "source": [
    "spam"
   ]
  },
  {
   "cell_type": "code",
   "execution_count": 52,
   "id": "58b0cbbf",
   "metadata": {},
   "outputs": [],
   "source": [
    "#Q6. After running the following code, what does the variable bacon contain?\n",
    "#    bacon = 22\n",
    "#    bacon + 1\n",
    "#Ans. 23 , because if bacon=22 and bacon+1 mean that you add 1 in 22. that is why ans. is 23"
   ]
  },
  {
   "cell_type": "code",
   "execution_count": 27,
   "id": "19a47626",
   "metadata": {},
   "outputs": [],
   "source": [
    "#Q7. What should the values of the following two terms be?\n",
    "#    'spam' + 'spamspam'\n",
    "#    'spam' * 3\n",
    "#Ans. 'spam'+'spamspam'= 'spamspamspam' and 'spam'*3= 'spamspamspam'"
   ]
  },
  {
   "cell_type": "code",
   "execution_count": 30,
   "id": "d9fd6429",
   "metadata": {},
   "outputs": [
    {
     "data": {
      "text/plain": [
       "'spamspamspam'"
      ]
     },
     "execution_count": 30,
     "metadata": {},
     "output_type": "execute_result"
    }
   ],
   "source": [
    "'spam' + 'spamspam'"
   ]
  },
  {
   "cell_type": "code",
   "execution_count": 31,
   "id": "4ef69438",
   "metadata": {},
   "outputs": [
    {
     "data": {
      "text/plain": [
       "'spamspamspam'"
      ]
     },
     "execution_count": 31,
     "metadata": {},
     "output_type": "execute_result"
    }
   ],
   "source": [
    "'spam' * 3"
   ]
  },
  {
   "cell_type": "code",
   "execution_count": 32,
   "id": "283b1a1d",
   "metadata": {},
   "outputs": [],
   "source": [
    "#Q8. Why is eggs a valid variable name while 100 is invalid?\n",
    "#Ans. Varialbe does not start with number."
   ]
  },
  {
   "cell_type": "code",
   "execution_count": 42,
   "id": "d8ceff73",
   "metadata": {},
   "outputs": [],
   "source": [
    "#Q9. What three functions can be used to get the integer, floating-point number, or string version of a value?\n",
    "#Ans. 1) str() , 2) int() , 3) float()"
   ]
  },
  {
   "cell_type": "code",
   "execution_count": 45,
   "id": "68116b53",
   "metadata": {},
   "outputs": [
    {
     "data": {
      "text/plain": [
       "'20'"
      ]
     },
     "execution_count": 45,
     "metadata": {},
     "output_type": "execute_result"
    }
   ],
   "source": [
    "str(20)"
   ]
  },
  {
   "cell_type": "code",
   "execution_count": 49,
   "id": "3824e961",
   "metadata": {},
   "outputs": [
    {
     "data": {
      "text/plain": [
       "20"
      ]
     },
     "execution_count": 49,
     "metadata": {},
     "output_type": "execute_result"
    }
   ],
   "source": [
    "int(20)"
   ]
  },
  {
   "cell_type": "code",
   "execution_count": 50,
   "id": "d99b2879",
   "metadata": {},
   "outputs": [
    {
     "data": {
      "text/plain": [
       "20.0"
      ]
     },
     "execution_count": 50,
     "metadata": {},
     "output_type": "execute_result"
    }
   ],
   "source": [
    "float(20)"
   ]
  },
  {
   "cell_type": "code",
   "execution_count": null,
   "id": "4f095974",
   "metadata": {},
   "outputs": [],
   "source": [
    "#Q10. Why does this expression cause an error? How can you fix it?\n",
    "#     'I have eaten ' + 99 + ' burritos.'\n",
    "#Ans. unsupported operand type for + : integer and string. fix it as follows,"
   ]
  },
  {
   "cell_type": "code",
   "execution_count": 48,
   "id": "06076e40",
   "metadata": {},
   "outputs": [
    {
     "data": {
      "text/plain": [
       "'I have eaten 99 burritos.'"
      ]
     },
     "execution_count": 48,
     "metadata": {},
     "output_type": "execute_result"
    }
   ],
   "source": [
    "'I have eaten ' + '99' + ' burritos.'"
   ]
  },
  {
   "cell_type": "code",
   "execution_count": null,
   "id": "7dd63fdb",
   "metadata": {},
   "outputs": [],
   "source": []
  }
 ],
 "metadata": {
  "kernelspec": {
   "display_name": "Python 3 (ipykernel)",
   "language": "python",
   "name": "python3"
  },
  "language_info": {
   "codemirror_mode": {
    "name": "ipython",
    "version": 3
   },
   "file_extension": ".py",
   "mimetype": "text/x-python",
   "name": "python",
   "nbconvert_exporter": "python",
   "pygments_lexer": "ipython3",
   "version": "3.9.7"
  }
 },
 "nbformat": 4,
 "nbformat_minor": 5
}
